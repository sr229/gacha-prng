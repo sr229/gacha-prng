{
  "cells": [
    {
      "cell_type": "markdown",
      "metadata": {
        "colab_type": "text",
        "id": "view-in-github"
      },
      "source": [
        "<a href=\"https://colab.research.google.com/github/sr229/gacha-prng/blob/main/gacha_probability.ipynb\" target=\"_parent\"><img src=\"https://colab.research.google.com/assets/colab-badge.svg\" alt=\"Open In Colab\"/></a>"
      ]
    },
    {
      "cell_type": "markdown",
      "metadata": {
        "id": "2dAjjFZLNnYU"
      },
      "source": [
        "## Jupyter Notebook to Calculate Gacha Probabilities in Python"
      ]
    },
    {
      "cell_type": "markdown",
      "metadata": {
        "id": "zjw7KiDKNuUA"
      },
      "source": [
        "## What is this about?"
      ]
    },
    {
      "cell_type": "markdown",
      "metadata": {
        "id": "x8xjncdjNxmt"
      },
      "source": [
        "This specific Notebook is used to calculate probabilities for Gacha games on N times of iterations. It was built to facilitate checking the probability of getting a ideal roll based on the number of iterations and attempts a user has made.\n",
        "\n",
        "We look on two factors that affects how a roll's outcome:\n",
        "\n",
        "- Time-based: some gacha games instead of using a fixed UID seed would use the server time as a seed. This allows it to be a bit more unpredictable however it still maintains it's usual predictability having a fixed rate and a relatively non-cryptographically secure PRNG.\n",
        "\n",
        "- Fixed seed-based: this is the most usual implementations seen in gacha games. They either use the UID or a internal identifier of the user to get your roll. Since we're using a predictable non-secure PRNG, this is the most predictable kind of method usually used and employed by games. Probability is considered constant as well since the seed is never changing."
      ]
    },
    {
      "cell_type": "markdown",
      "metadata": {
        "id": "F9IzvHnnOqL5"
      },
      "source": [
        "## The Algorithm"
      ]
    },
    {
      "cell_type": "markdown",
      "metadata": {
        "id": "K2YIx6T4OtlZ"
      },
      "source": [
        "This gacha probability notebook uses the Subtractive Pseudo-Random Number Generator used by C#. \n",
        "\n",
        "Quoting [RosettaCode](https://rosettacode.org/wiki/Subtractive_generator):\n",
        "> A subtractive generator calculates a sequence of random numbers, where each number is congruent to the subtraction of two previous numbers from the sequence.\n",
        "\n",
        "The reason this was picked because a large majority of the games currently that has gacha elements are based on Unity C#, and we can assume some of them uses client-side PRNG (however most gacha games have server side PRNG)."
      ]
    },
    {
      "cell_type": "markdown",
      "metadata": {
        "id": "ghOSQdaPPVBl"
      },
      "source": [
        "## The code"
      ]
    },
    {
      "cell_type": "code",
      "execution_count": 1,
      "metadata": {
        "id": "iVPmAGiu7Nf2"
      },
      "outputs": [],
      "source": [
        "import random\n",
        "from matplotlib import pyplot as plt\n",
        "import time\n",
        "import statistics\n",
        "from numpy import sqrt,set_printoptions\n",
        "from numba import jit, uint32, void\n",
        "import sys\n",
        "\n",
        "set_printoptions(threshold=sys.maxsize)"
      ]
    },
    {
      "cell_type": "code",
      "execution_count": 2,
      "metadata": {
        "id": "nrjGPvlG97Mz"
      },
      "outputs": [],
      "source": [
        "import os\n",
        "os.environ['NUMBAPRO_LIBDEVICE'] = \"/usr/local/cuda-10.0/nvvm/libdevice\"\n",
        "os.environ['NUMBAPRO_NVVM'] = \"/usr/local/cuda-10.0/nvvm/lib64/libnvvm.so\""
      ]
    },
    {
      "cell_type": "code",
      "execution_count": 3,
      "metadata": {
        "colab": {
          "base_uri": "https://localhost:8080/",
          "height": 34
        },
        "id": "rVLu-DSb7aYJ",
        "outputId": "b75a6f8e-39f6-4652-f100-7fa38749f6ca"
      },
      "outputs": [
        {
          "name": "stderr",
          "output_type": "stream",
          "text": [
            "/tmp/ipykernel_902/1566753798.py:17: NumbaWarning: \u001b[1m\n",
            "Compilation is falling back to object mode WITH looplifting enabled because Function \"Uint32\" failed type inference due to: \u001b[1m\u001b[1mUnknown attribute 'index' of type uint32\n",
            "\u001b[1m\n",
            "File \"../../tmp/ipykernel_902/1566753798.py\", line 19:\u001b[0m\n",
            "\u001b[1m<source missing, REPL/exec in use?>\u001b[0m\n",
            "\u001b[0m\n",
            "\u001b[0m\u001b[1mDuring: typing of get attribute at /tmp/ipykernel_902/1566753798.py (19)\u001b[0m\n",
            "\u001b[1m\n",
            "File \"../../tmp/ipykernel_902/1566753798.py\", line 19:\u001b[0m\n",
            "\u001b[1m<source missing, REPL/exec in use?>\u001b[0m\n",
            "\u001b[0m\n",
            "  @jit(uint32(uint32))\n",
            "/home/codespace/.python/current/lib/python3.10/site-packages/numba/core/object_mode_passes.py:151: NumbaWarning: \u001b[1mFunction \"Uint32\" was compiled in object mode without forceobj=True.\n",
            "\u001b[1m\n",
            "File \"../../tmp/ipykernel_902/1566753798.py\", line 17:\u001b[0m\n",
            "\u001b[1m<source missing, REPL/exec in use?>\u001b[0m\n",
            "\u001b[0m\n",
            "  warnings.warn(errors.NumbaWarning(warn_msg,\n",
            "/home/codespace/.python/current/lib/python3.10/site-packages/numba/core/object_mode_passes.py:161: NumbaDeprecationWarning: \u001b[1m\n",
            "Fall-back from the nopython compilation path to the object mode compilation path has been detected, this is deprecated behaviour.\n",
            "\n",
            "For more information visit https://numba.readthedocs.io/en/stable/reference/deprecation.html#deprecation-of-object-mode-fall-back-behaviour-when-using-jit\n",
            "\u001b[1m\n",
            "File \"../../tmp/ipykernel_902/1566753798.py\", line 17:\u001b[0m\n",
            "\u001b[1m<source missing, REPL/exec in use?>\u001b[0m\n",
            "\u001b[0m\n",
            "  warnings.warn(errors.NumbaDeprecationWarning(msg,\n",
            "/tmp/ipykernel_902/1566753798.py:26: NumbaWarning: \u001b[1m\n",
            "Compilation is falling back to object mode WITH looplifting enabled because Function \"twist\" failed type inference due to: \u001b[1m\u001b[1mUnknown attribute 'w' of type none\n",
            "\u001b[1m\n",
            "File \"../../tmp/ipykernel_902/1566753798.py\", line 29:\u001b[0m\n",
            "\u001b[1m<source missing, REPL/exec in use?>\u001b[0m\n",
            "\u001b[0m\n",
            "\u001b[0m\u001b[1mDuring: typing of get attribute at /tmp/ipykernel_902/1566753798.py (29)\u001b[0m\n",
            "\u001b[1m\n",
            "File \"../../tmp/ipykernel_902/1566753798.py\", line 29:\u001b[0m\n",
            "\u001b[1m<source missing, REPL/exec in use?>\u001b[0m\n",
            "\u001b[0m\n",
            "  @jit(void(void))\n",
            "/tmp/ipykernel_902/1566753798.py:26: NumbaWarning: \u001b[1m\n",
            "Compilation is falling back to object mode WITHOUT looplifting enabled because Function \"twist\" failed type inference due to: \u001b[1m\u001b[1mCannot determine Numba type of <class 'numba.core.dispatcher.LiftedLoop'>\u001b[0m\n",
            "\u001b[1m\n",
            "File \"../../tmp/ipykernel_902/1566753798.py\", line 28:\u001b[0m\n",
            "\u001b[1m<source missing, REPL/exec in use?>\u001b[0m\n",
            "\u001b[0m\u001b[0m\n",
            "  @jit(void(void))\n",
            "/home/codespace/.python/current/lib/python3.10/site-packages/numba/core/object_mode_passes.py:151: NumbaWarning: \u001b[1mFunction \"twist\" was compiled in object mode without forceobj=True, but has lifted loops.\n",
            "\u001b[1m\n",
            "File \"../../tmp/ipykernel_902/1566753798.py\", line 28:\u001b[0m\n",
            "\u001b[1m<source missing, REPL/exec in use?>\u001b[0m\n",
            "\u001b[0m\n",
            "  warnings.warn(errors.NumbaWarning(warn_msg,\n",
            "/home/codespace/.python/current/lib/python3.10/site-packages/numba/core/object_mode_passes.py:161: NumbaDeprecationWarning: \u001b[1m\n",
            "Fall-back from the nopython compilation path to the object mode compilation path has been detected, this is deprecated behaviour.\n",
            "\n",
            "For more information visit https://numba.readthedocs.io/en/stable/reference/deprecation.html#deprecation-of-object-mode-fall-back-behaviour-when-using-jit\n",
            "\u001b[1m\n",
            "File \"../../tmp/ipykernel_902/1566753798.py\", line 28:\u001b[0m\n",
            "\u001b[1m<source missing, REPL/exec in use?>\u001b[0m\n",
            "\u001b[0m\n",
            "  warnings.warn(errors.NumbaDeprecationWarning(msg,\n",
            "/tmp/ipykernel_902/1566753798.py:37: NumbaWarning: \u001b[1m\n",
            "Compilation is falling back to object mode WITH looplifting enabled because Function \"srand\" failed type inference due to: \u001b[1mUntyped global name 'GoRand':\u001b[0m \u001b[1m\u001b[1mCannot determine Numba type of <class 'type'>\u001b[0m\n",
            "\u001b[1m\n",
            "File \"../../tmp/ipykernel_902/1566753798.py\", line 39:\u001b[0m\n",
            "\u001b[1m<source missing, REPL/exec in use?>\u001b[0m\n",
            "\u001b[0m\u001b[0m\n",
            "  @jit(uint32(uint32))\n",
            "/home/codespace/.python/current/lib/python3.10/site-packages/numba/core/object_mode_passes.py:151: NumbaWarning: \u001b[1mFunction \"srand\" was compiled in object mode without forceobj=True.\n",
            "\u001b[1m\n",
            "File \"../../tmp/ipykernel_902/1566753798.py\", line 37:\u001b[0m\n",
            "\u001b[1m<source missing, REPL/exec in use?>\u001b[0m\n",
            "\u001b[0m\n",
            "  warnings.warn(errors.NumbaWarning(warn_msg,\n",
            "/home/codespace/.python/current/lib/python3.10/site-packages/numba/core/object_mode_passes.py:161: NumbaDeprecationWarning: \u001b[1m\n",
            "Fall-back from the nopython compilation path to the object mode compilation path has been detected, this is deprecated behaviour.\n",
            "\n",
            "For more information visit https://numba.readthedocs.io/en/stable/reference/deprecation.html#deprecation-of-object-mode-fall-back-behaviour-when-using-jit\n",
            "\u001b[1m\n",
            "File \"../../tmp/ipykernel_902/1566753798.py\", line 37:\u001b[0m\n",
            "\u001b[1m<source missing, REPL/exec in use?>\u001b[0m\n",
            "\u001b[0m\n",
            "  warnings.warn(errors.NumbaDeprecationWarning(msg,\n",
            "/tmp/ipykernel_902/1566753798.py:26: NumbaWarning: \u001b[1m\n",
            "Compilation is falling back to object mode WITHOUT looplifting enabled because Function \"twist\" failed type inference due to: \u001b[1m\u001b[1mnon-precise type pyobject\u001b[0m\n",
            "\u001b[0m\u001b[1mDuring: typing of argument at /tmp/ipykernel_902/1566753798.py (28)\u001b[0m\n",
            "\u001b[1m\n",
            "File \"../../tmp/ipykernel_902/1566753798.py\", line 28:\u001b[0m\n",
            "\u001b[1m<source missing, REPL/exec in use?>\u001b[0m\n",
            "\u001b[0m\n",
            "  @jit(void(void))\n",
            "/home/codespace/.python/current/lib/python3.10/site-packages/numba/core/object_mode_passes.py:151: NumbaWarning: \u001b[1mFunction \"twist\" was compiled in object mode without forceobj=True.\n",
            "\u001b[1m\n",
            "File \"../../tmp/ipykernel_902/1566753798.py\", line 28:\u001b[0m\n",
            "\u001b[1m<source missing, REPL/exec in use?>\u001b[0m\n",
            "\u001b[0m\n",
            "  warnings.warn(errors.NumbaWarning(warn_msg,\n",
            "/home/codespace/.python/current/lib/python3.10/site-packages/numba/core/object_mode_passes.py:161: NumbaDeprecationWarning: \u001b[1m\n",
            "Fall-back from the nopython compilation path to the object mode compilation path has been detected, this is deprecated behaviour.\n",
            "\n",
            "For more information visit https://numba.readthedocs.io/en/stable/reference/deprecation.html#deprecation-of-object-mode-fall-back-behaviour-when-using-jit\n",
            "\u001b[1m\n",
            "File \"../../tmp/ipykernel_902/1566753798.py\", line 28:\u001b[0m\n",
            "\u001b[1m<source missing, REPL/exec in use?>\u001b[0m\n",
            "\u001b[0m\n",
            "  warnings.warn(errors.NumbaDeprecationWarning(msg,\n"
          ]
        },
        {
          "name": "stdout",
          "output_type": "stream",
          "text": [
            "1605365169\n"
          ]
        }
      ],
      "source": [
        "\"\"\"\"\"\n",
        "\n",
        "Implements the rand.go package in Golang in Python, which is a version of the Mersenne Twister PRNG, which we assume is the same as the one used in the game.\n",
        "However, we are not sure if this is the exact PRNG used in Arknights, however, we assume the backend developers do not use a custom weighted PRNG.\n",
        "\"\"\"\"\"\n",
        "class GoRand:\n",
        "    def __init__(self, seed):\n",
        "        self.r = random.Random(seed)\n",
        "        self.w = [0] * 16\n",
        "        self.w[0] = seed\n",
        "\n",
        "        for i in range(1, 16):\n",
        "            self.w[i] = (1812433253 * (self.w[i-1] ^ (self.w[i-1] >> 30)) + i) & 0xffffffff\n",
        "\n",
        "        self.index = 16\n",
        "    \n",
        "    @jit(uint32(uint32), forceobj=True)\n",
        "    def Uint32(self) -> int:\n",
        "        if self.index == 16:\n",
        "            self.twist()\n",
        "\n",
        "        x = self.w[self.index]\n",
        "        self.index += 1\n",
        "        return x\n",
        "    \n",
        "    @jit(void(void))\n",
        "    def twist(self) -> None:\n",
        "        for i in range(16):\n",
        "            x = (self.w[i] & 0x80000000) + (self.w[(i+1)%16] & 0x7fffffff)\n",
        "            self.w[i] = self.w[(i+397)%16] ^ (x >> 1)\n",
        "\n",
        "            if x % 2 != 0:\n",
        "                self.w[i] ^= 0x9908b0df\n",
        "\n",
        "        self.index = 0\n",
        "\n",
        "@jit(uint32(uint32))\n",
        "def srand(seed) -> int:\n",
        "    return GoRand(seed).Uint32()\n",
        "\n",
        "\n",
        "\n",
        "\n",
        "# Verify our SPRNG works\n",
        "x = srand(1029202)\n",
        "print(x)"
      ]
    },
    {
      "cell_type": "code",
      "execution_count": 4,
      "metadata": {
        "id": "aNZfOus79OSw"
      },
      "outputs": [],
      "source": [
        "\"\"\"\n",
        "Calculates the probability between N times of iterations.\n",
        ":param seed: the seed used by the PRNG to calculate the rate of roll. This could be any positive integers from 1 to 10^9.\n",
        ":param rate: the rate of the roll. By default it uses 0.02.\n",
        ":param iterations: the N amount of iterations to perform to check for a probability\n",
        ":param total_samples: the amount of total samples to check against.\n",
        "\"\"\"\n",
        "# We're using Numba to speed up our increments, since the LLVM opcodes is going to help us alot.\n",
        "@jit(parallel=True, nogil=True)\n",
        "def get_probability(seed, rate, rate_increment, iterations, total_samples, debug=False):\n",
        "\n",
        "    tl_mean_list = []\n",
        "\n",
        "    prng = srand(seed)\n",
        "    s = 0\n",
        "    start = time.time()\n",
        "\n",
        "    while s < iterations:\n",
        "        trial_list = []\n",
        "        a = 0\n",
        "\n",
        "        while a < total_samples:\n",
        "            trial = 1\n",
        "            x = prng / 10**9\n",
        "            rate_current = rate\n",
        "            while x > rate_current:\n",
        "                trial += 1\n",
        "                x = prng / 10**9\n",
        "                if trial > 50:\n",
        "                    rate_current += rate_increment\n",
        "                \n",
        "            a += 1\n",
        "            trial_list.append(trial)\n",
        "        \n",
        "        eee = sum(trial_list) / iterations\n",
        "        tl_mean_list.append(eee)\n",
        "        s += 1\n",
        "\n",
        "        if s % 100 == 0 and debug is True:\n",
        "            endf = time.time()\n",
        "            print('progress =','%.2f' % (s*100/iterations),'% (time =','%.2f' % (endf-start),'s)')\n",
        "  \n",
        "    return tl_mean_list"
      ]
    },
    {
      "cell_type": "markdown",
      "metadata": {
        "id": "vLkJjQIjPbSP"
      },
      "source": [
        "### Probability calculation using a fixed seed\n",
        "\n",
        "The following example plots the probability at 10000 iterations at a fixed rate of 0.02."
      ]
    },
    {
      "cell_type": "code",
      "execution_count": 5,
      "metadata": {
        "colab": {
          "base_uri": "https://localhost:8080/"
        },
        "id": "4a90poJ4Av1m",
        "outputId": "229f655a-2d98-485b-dc6e-8741c89db152"
      },
      "outputs": [
        {
          "name": "stderr",
          "output_type": "stream",
          "text": [
            "/tmp/ipykernel_902/4217972255.py:9: NumbaWarning: \u001b[1m\n",
            "Compilation is falling back to object mode WITH looplifting enabled because Function \"get_probability\" failed type inference due to: \u001b[1m\u001b[1m\u001b[1mInvalid use of type(CPUDispatcher(<function srand at 0x7fd8648df1c0>)) with parameters (int64)\n",
            "\u001b[0m\n",
            "\u001b[0m\u001b[1mDuring: resolving callee type: type(CPUDispatcher(<function srand at 0x7fd8648df1c0>))\u001b[0m\n",
            "\u001b[0m\u001b[1mDuring: typing of call at /tmp/ipykernel_902/4217972255.py (14)\n",
            "\u001b[0m\n",
            "\u001b[1m\n",
            "File \"../../tmp/ipykernel_902/4217972255.py\", line 14:\u001b[0m\n",
            "\u001b[1m<source missing, REPL/exec in use?>\u001b[0m\n",
            "\u001b[0m\n",
            "  @jit(parallel=True, nogil=True)\n"
          ]
        }
      ],
      "source": [
        "# Number of iterations\n",
        "N = 10000\n",
        "# Sample Size\n",
        "sN = 10000\n",
        "\n",
        "# Execute. Keep in mind it may take a while for the function to complete since it's going through a large number of iterations.\n",
        "tl_mean_list = get_probability(102927162, 0.02, 0.02, N, sN)\n",
        "\n",
        "var = statistics.variance(tl_mean_list)\n",
        "\n",
        "print('mean =',sum(tl_mean_list)/sN)\n",
        "print('variance =',var)\n",
        "print('sd =',sqrt(var))\n",
        "\n",
        "fig, ax = plt.subplots(figsize = (10,7))\n",
        "ax.hist(tl_mean_list, bins = 50)\n",
        "\n",
        "plt.show()"
      ]
    },
    {
      "cell_type": "markdown",
      "metadata": {
        "id": "NDbB0oB7SU7C"
      },
      "source": [
        "### Probability calculation using the Unix time\n",
        "\n",
        "The following example plots the probability at 10000 iterations at a fixed rate of 0.02 but using the ever changing [Unix time](https://en.wikipedia.org/wiki/Unix_time) as our seed."
      ]
    },
    {
      "cell_type": "code",
      "execution_count": null,
      "metadata": {
        "colab": {
          "base_uri": "https://localhost:8080/"
        },
        "id": "vnN3r4kbSU7G",
        "outputId": "1ef9d56e-6db4-46d6-c3a5-f2cc02462dc0"
      },
      "outputs": [
        {
          "name": "stdout",
          "output_type": "stream",
          "text": [
            "mean = 34.58273061224491\n",
            "variance = 0.00022249166622222223\n",
            "sd = 0.01491615453869469\n"
          ]
        },
        {
          "data": {
            "image/png": "[encoded data removed]",
            "text/plain": [
              "<Figure size 720x504 with 1 Axes>"
            ]
          },
          "metadata": {
            "needs_background": "light",
            "tags": []
          },
          "output_type": "display_data"
        }
      ],
      "source": [
        "# Number of iterations\n",
        "N = 10000\n",
        "# Sample Size\n",
        "sN = 49\n",
        "\n",
        "# Execute. Keep in mind it may take a while for the function to complete since it's going through a large number of iterations.\n",
        "tl_mean_list = get_probability(int(time.time()), 0.02, 0.02, N, sN)\n",
        "\n",
        "var = statistics.variance(tl_mean_list)\n",
        "\n",
        "print('mean =',sum(tl_mean_list)/sN)\n",
        "print('variance =',var)\n",
        "print('sd =',sqrt(var))\n",
        "\n",
        "fig, ax = plt.subplots(figsize = (10,7))\n",
        "ax.hist(tl_mean_list, bins = 50)\n",
        "\n",
        "plt.show()"
      ]
    },
    {
      "cell_type": "markdown",
      "metadata": {
        "id": "2Hcxja7sTd6M"
      },
      "source": [
        "## Credits\n",
        "\n",
        "These works are created as a collaboration of the following people:\n",
        "\n",
        "- [SurfChu85](https://twitter.com/SurfChu85)\n",
        "- [Ayane Satomi](https://github.com/sr229)\n",
        "- [Eyenine](https://twitter.com/Eyenine_i9)\n",
        "- [KaidenFrizu](https://github.com/KaidenFrizu)"
      ]
    }
  ],
  "metadata": {
    "colab": {
      "collapsed_sections": [],
      "include_colab_link": true,
      "name": "gacha_probability.ipynb",
      "provenance": [],
      "toc_visible": true
    },
    "kernelspec": {
      "display_name": "Python 3",
      "name": "python3"
    },
    "language_info": {
      "codemirror_mode": {
        "name": "ipython",
        "version": 3
      },
      "file_extension": ".py",
      "mimetype": "text/x-python",
      "name": "python",
      "nbconvert_exporter": "python",
      "pygments_lexer": "ipython3",
      "version": "3.10.4"
    }
  },
  "nbformat": 4,
  "nbformat_minor": 0
}
